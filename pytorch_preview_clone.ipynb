{
  "nbformat": 4,
  "nbformat_minor": 0,
  "metadata": {
    "colab": {
      "provenance": [],
      "authorship_tag": "ABX9TyMoCVRCwLrJQ6E8m6csCm5w",
      "include_colab_link": true
    },
    "kernelspec": {
      "name": "python3",
      "display_name": "Python 3"
    },
    "language_info": {
      "name": "python"
    }
  },
  "cells": [
    {
      "cell_type": "markdown",
      "metadata": {
        "id": "view-in-github",
        "colab_type": "text"
      },
      "source": [
        "<a href=\"https://colab.research.google.com/github/mx5nabcd/pytorch-preview_clone/blob/main/pytorch_preview_clone.ipynb\" target=\"_parent\"><img src=\"https://colab.research.google.com/assets/colab-badge.svg\" alt=\"Open In Colab\"/></a>"
      ]
    },
    {
      "cell_type": "code",
      "execution_count": 1,
      "metadata": {
        "id": "Ojxf_ngphlmp"
      },
      "outputs": [],
      "source": [
        "# 클론 코딩은 아래의 링크에서 12번 박스까지 참고함\n",
        "# https://www.kaggle.com/code/kanncaa1/pytorch-tutorial-for-deep-learning-lovers"
      ]
    },
    {
      "cell_type": "code",
      "source": [
        "from google.colab import drive\n",
        "drive.mount('/content/drive')"
      ],
      "metadata": {
        "colab": {
          "base_uri": "https://localhost:8080/"
        },
        "id": "JJ1q5V2_KPFB",
        "outputId": "5ef4262b-94d5-4b22-d0cc-709b615c59f9"
      },
      "execution_count": 2,
      "outputs": [
        {
          "output_type": "stream",
          "name": "stdout",
          "text": [
            "Mounted at /content/drive\n"
          ]
        }
      ]
    },
    {
      "cell_type": "code",
      "source": [
        "import numpy as np\n",
        "import pandas as pd\n",
        "import matplotlib.pyplot as plt"
      ],
      "metadata": {
        "id": "nYtMx2xKHSL5"
      },
      "execution_count": 3,
      "outputs": []
    },
    {
      "cell_type": "code",
      "source": [
        "# numpy array\n",
        "array = [[1,2,3],[4,5,6]]\n",
        "first_array = np.array(array)\n",
        "print(\"Array Type: {}\".format(type(first_array)))\n",
        "print(\"Array Shape: {}\".format(np.shape(first_array)))\n",
        "print(first_array)"
      ],
      "metadata": {
        "colab": {
          "base_uri": "https://localhost:8080/"
        },
        "id": "5NCxpbFLIGSf",
        "outputId": "06ecf62b-59eb-447e-8589-432e6cf9d762"
      },
      "execution_count": 4,
      "outputs": [
        {
          "output_type": "stream",
          "name": "stdout",
          "text": [
            "Array Type: <class 'numpy.ndarray'>\n",
            "Array Shape: (2, 3)\n",
            "[[1 2 3]\n",
            " [4 5 6]]\n"
          ]
        }
      ]
    },
    {
      "cell_type": "code",
      "source": [
        "import torch\n",
        "\n",
        "# pytorch array\n",
        "tensor = torch.Tensor(array)\n",
        "print(\"Array Type: {}\".format(tensor.type))\n",
        "print(\"Array Shape: {}\".format(tensor.shape))\n",
        "print(tensor)"
      ],
      "metadata": {
        "colab": {
          "base_uri": "https://localhost:8080/"
        },
        "id": "pJ56kTRNNjCz",
        "outputId": "1a25d86c-8196-43b3-8370-9a82cf3665ca"
      },
      "execution_count": 5,
      "outputs": [
        {
          "output_type": "stream",
          "name": "stdout",
          "text": [
            "Array Type: <built-in method type of Tensor object at 0x7f3018a39c70>\n",
            "Array Shape: torch.Size([2, 3])\n",
            "tensor([[1., 2., 3.],\n",
            "        [4., 5., 6.]])\n"
          ]
        }
      ]
    },
    {
      "cell_type": "code",
      "source": [
        "# numpy ones\n",
        "print(\"Numpy {}\\n\".format(np.ones((2,3))))\n",
        "\n",
        "# pytorch random\n",
        "print(torch.ones((2,3)))"
      ],
      "metadata": {
        "colab": {
          "base_uri": "https://localhost:8080/"
        },
        "id": "ssimdooWN4K6",
        "outputId": "f0ebe6fa-c91a-4b58-976a-1d3cbbd393b4"
      },
      "execution_count": 6,
      "outputs": [
        {
          "output_type": "stream",
          "name": "stdout",
          "text": [
            "Numpy [[1. 1. 1.]\n",
            " [1. 1. 1.]]\n",
            "\n",
            "tensor([[1., 1., 1.],\n",
            "        [1., 1., 1.]])\n"
          ]
        }
      ]
    },
    {
      "cell_type": "code",
      "source": [
        "# random numpy array\n",
        "array = np.random.rand(2,2)\n",
        "print(\"{} {}\\n\".format(type(array),array))\n",
        "\n",
        "# from numpy to tensor\n",
        "from_numpy_to_tensor = torch.from_numpy(array)\n",
        "print(\"{}\\n\".format(from_numpy_to_tensor))\n",
        "\n",
        "# from tensor to numpy\n",
        "tensor = from_numpy_to_tensor\n",
        "from_tensor_to_numpy = tensor.numpy()\n",
        "print(\"{} {}\\n\".format(type(from_tensor_to_numpy), from_tensor_to_numpy))"
      ],
      "metadata": {
        "id": "1_lmH566OEbQ",
        "colab": {
          "base_uri": "https://localhost:8080/"
        },
        "outputId": "340acf0f-11b2-4293-ef8e-d29af8ae8cbb"
      },
      "execution_count": 7,
      "outputs": [
        {
          "output_type": "stream",
          "name": "stdout",
          "text": [
            "<class 'numpy.ndarray'> [[0.79587942 0.42375916]\n",
            " [0.84495842 0.44520443]]\n",
            "\n",
            "tensor([[0.7959, 0.4238],\n",
            "        [0.8450, 0.4452]], dtype=torch.float64)\n",
            "\n",
            "<class 'numpy.ndarray'> [[0.79587942 0.42375916]\n",
            " [0.84495842 0.44520443]]\n",
            "\n"
          ]
        }
      ]
    },
    {
      "cell_type": "code",
      "source": [
        "# create tensor\n",
        "tensor = torch.ones(3,3)\n",
        "print(\"\\n\",tensor)\n",
        "\n",
        "# Resize\n",
        "print(\"{}{}\\n\".format(tensor.view(9).shape,tensor.view(9)))\n",
        "\n",
        "# Addition\n",
        "print(\"Addition: {}\\n\".format(torch.add(tensor,tensor)))\n",
        "\n",
        "# Subtraction\n",
        "print(\"Subtraction: {}\\n\".format(tensor.sub(tensor)))\n",
        "\n",
        "# Element wise multiplication\n",
        "print(\"Element wise multiplication: {}\\n\".format(torch.mul(tensor,tensor)))\n",
        "\n",
        "# Element wise division\n",
        "print(\"Element wise division: {}\\n\".format(torch.div(tensor,tensor)))\n",
        "\n",
        "# Mean\n",
        "tensor = torch.Tensor([1,2,3,4,5])\n",
        "print(\"Mean: {}\".format(tensor.mean()))\n",
        "\n",
        "# Standart deviation (std)\n",
        "print(\"std: {}\".format(tensor.std()))"
      ],
      "metadata": {
        "colab": {
          "base_uri": "https://localhost:8080/"
        },
        "id": "vYfLmUwa8MEZ",
        "outputId": "ebbd4dd9-0185-4495-9f80-9e635b62c2e3"
      },
      "execution_count": 8,
      "outputs": [
        {
          "output_type": "stream",
          "name": "stdout",
          "text": [
            "\n",
            " tensor([[1., 1., 1.],\n",
            "        [1., 1., 1.],\n",
            "        [1., 1., 1.]])\n",
            "torch.Size([9])tensor([1., 1., 1., 1., 1., 1., 1., 1., 1.])\n",
            "\n",
            "Addition: tensor([[2., 2., 2.],\n",
            "        [2., 2., 2.],\n",
            "        [2., 2., 2.]])\n",
            "\n",
            "Subtraction: tensor([[0., 0., 0.],\n",
            "        [0., 0., 0.],\n",
            "        [0., 0., 0.]])\n",
            "\n",
            "Element wise multiplication: tensor([[1., 1., 1.],\n",
            "        [1., 1., 1.],\n",
            "        [1., 1., 1.]])\n",
            "\n",
            "Element wise division: tensor([[1., 1., 1.],\n",
            "        [1., 1., 1.],\n",
            "        [1., 1., 1.]])\n",
            "\n",
            "Mean: 3.0\n",
            "std: 1.5811388492584229\n"
          ]
        }
      ]
    },
    {
      "cell_type": "code",
      "source": [
        "# import variable from pytorch library\n",
        "from torch.autograd import Variable\n",
        "\n",
        "# define variable\n",
        "var = Variable(torch.ones(3), requires_grad = True)\n",
        "var"
      ],
      "metadata": {
        "colab": {
          "base_uri": "https://localhost:8080/"
        },
        "id": "xjjLvBGu8kFd",
        "outputId": "247a747b-afa3-4665-a8e5-ed0ef1213e5a"
      },
      "execution_count": 9,
      "outputs": [
        {
          "output_type": "execute_result",
          "data": {
            "text/plain": [
              "tensor([1., 1., 1.], requires_grad=True)"
            ]
          },
          "metadata": {},
          "execution_count": 9
        }
      ]
    },
    {
      "cell_type": "code",
      "source": [
        "# lets make basic backward propagation\n",
        "# we have an equation that is y = x^2\n",
        "array = [2,4]\n",
        "tensor = torch.Tensor(array)\n",
        "x = Variable(tensor, requires_grad = True)\n",
        "y = x**2\n",
        "print(\" y =  \",y)\n",
        "\n",
        "# recap o equation o = 1/2*sum(y)\n",
        "o = (1/2)*sum(y)\n",
        "print(\" o =  \",o)\n",
        "\n",
        "# backward\n",
        "o.backward() # calculates gradients\n",
        "\n",
        "print(\"gradients: \",x.grad)"
      ],
      "metadata": {
        "colab": {
          "base_uri": "https://localhost:8080/"
        },
        "id": "T7EOpngF-VFQ",
        "outputId": "167c4289-d995-4f49-fab4-fd9970c43bce"
      },
      "execution_count": 10,
      "outputs": [
        {
          "output_type": "stream",
          "name": "stdout",
          "text": [
            " y =   tensor([ 4., 16.], grad_fn=<PowBackward0>)\n",
            " o =   tensor(10., grad_fn=<MulBackward0>)\n",
            "gradients:  tensor([2., 4.])\n"
          ]
        }
      ]
    },
    {
      "cell_type": "code",
      "source": [
        "# As a car company we collect this data from previous selling\n",
        "# lets define car prices\n",
        "car_prices_array = [3,4,5,6,7,8,9]\n",
        "car_price_np = np.array(car_prices_array,dtype=np.float32)\n",
        "car_price_np = car_price_np.reshape(-1,1)\n",
        "car_price_tensor = Variable(torch.from_numpy(car_price_np))\n",
        "\n",
        "# lets define number of car sell\n",
        "number_of_car_sell_array = [7.5, 7.0, 6.5, 6.0, 5.5, 5.0, 4.5]\n",
        "number_of_car_sell_np = np.array(number_of_car_sell_array,dtype=np.float32)\n",
        "number_of_car_sell_np = number_of_car_sell_np.reshape(-1,1)\n",
        "number_of_car_sell_tensor = Variable(torch.from_numpy(number_of_car_sell_np))\n",
        "\n",
        "# lets visualize our data\n",
        "import matplotlib.pyplot as plt\n",
        "plt.scatter(car_prices_array,number_of_car_sell_array)\n",
        "plt.xlabel(\"Car Price $\")\n",
        "plt.ylabel(\"Number of Car Sell\")\n",
        "plt.title(\"Car Price$ VS Number of Car Sell\")\n",
        "plt.show()"
      ],
      "metadata": {
        "id": "7SfeY_H6_Enw",
        "colab": {
          "base_uri": "https://localhost:8080/",
          "height": 295
        },
        "outputId": "596428df-1ef8-4c32-b81a-8d84a2ad5855"
      },
      "execution_count": 11,
      "outputs": [
        {
          "output_type": "display_data",
          "data": {
            "text/plain": [
              "<Figure size 432x288 with 1 Axes>"
            ],
            "image/png": "[encoded data removed]"
          },
          "metadata": {
            "needs_background": "light"
          }
        }
      ]
    },
    {
      "cell_type": "code",
      "source": [
        "# Linear Regression with Pytorch\n",
        "\n",
        "# libraries\n",
        "import torch\n",
        "from torch.autograd import Variable\n",
        "import torch.nn as nn\n",
        "import warnings\n",
        "warnings.filterwarnings(\"ignore\")\n",
        "\n",
        "# create class\n",
        "class LinearRegression(nn.Module):\n",
        "  def __init__(self,input_size,output_size):\n",
        "    # super function. It inherits from nn.Module and we can access everythink in nn.Module\n",
        "    super(LinearRegression,self).__init__()\n",
        "    # Linear functionk.\n",
        "    self.linear = nn.Linear(input_dim,output_dim)\n",
        "\n",
        "  def forward(self,x):\n",
        "    return self.linear(x)\n",
        "\n",
        "# define model\n",
        "input_dim = 1\n",
        "output_dim = 1\n",
        "model = LinearRegression(input_dim,output_dim) # input and output size are 1\n",
        "\n",
        "# MSE\n",
        "mse = nn.MSELoss()\n",
        "\n",
        "# Optimization (find parameters that minimize error)\n",
        "learning_rate = 0.02   # how fast we reach best parameters\n",
        "optimizer = torch.optim.SGD(model.parameters(),lr=learning_rate)\n",
        "\n",
        "# train model\n",
        "loss_list = []\n",
        "iteration_number = 1001\n",
        "for iteration in range(iteration_number):\n",
        "\n",
        "  # optimization\n",
        "  optimizer.zero_grad()\n",
        "\n",
        "  # Forward to get output\n",
        "  results = model(car_price_tensor)\n",
        "  \n",
        "  # Calculate Loss\n",
        "  loss = mse(results, number_of_car_sell_tensor)\n",
        "\n",
        "  # backward propagation\n",
        "  loss.backward()\n",
        "\n",
        "  # Updating parameters\n",
        "  optimizer.step()\n",
        "\n",
        "  # store loss\n",
        "  loss_list.append(loss.data)\n",
        "\n",
        "  # print loss\n",
        "  if(iteration % 50 == 0):\n",
        "    print('epoch {}, loss {}'.format(iteration, loss.data))\n",
        "\n",
        "plt.plot(range(iteration_number),loss_list)\n",
        "plt.xlabel(\"Number of Iterations\")\n",
        "plt.ylabel(\"Loss\")\n",
        "plt.show()\n",
        "\n"
      ],
      "metadata": {
        "colab": {
          "base_uri": "https://localhost:8080/",
          "height": 665
        },
        "id": "c2HZnB5yw55o",
        "outputId": "f3dc3860-2e1c-4b89-db5d-a8c51626d19d"
      },
      "execution_count": 12,
      "outputs": [
        {
          "output_type": "stream",
          "name": "stdout",
          "text": [
            "epoch 0, loss 130.08444213867188\n",
            "epoch 50, loss 5.872474193572998\n",
            "epoch 100, loss 3.9682765007019043\n",
            "epoch 150, loss 2.681529998779297\n",
            "epoch 200, loss 1.8120228052139282\n",
            "epoch 250, loss 1.2244594097137451\n",
            "epoch 300, loss 0.8274192810058594\n",
            "epoch 350, loss 0.5591217279434204\n",
            "epoch 400, loss 0.3778221905231476\n",
            "epoch 450, loss 0.25530993938446045\n",
            "epoch 500, loss 0.17252370715141296\n",
            "epoch 550, loss 0.11658133566379547\n",
            "epoch 600, loss 0.07877884060144424\n",
            "epoch 650, loss 0.05323425307869911\n",
            "epoch 700, loss 0.03597234934568405\n",
            "epoch 750, loss 0.02430807612836361\n",
            "epoch 800, loss 0.016426078975200653\n",
            "epoch 850, loss 0.011099932715296745\n",
            "epoch 900, loss 0.007500600069761276\n",
            "epoch 950, loss 0.005068319384008646\n",
            "epoch 1000, loss 0.0034249313175678253\n"
          ]
        },
        {
          "output_type": "display_data",
          "data": {
            "text/plain": [
              "<Figure size 432x288 with 1 Axes>"
            ],
            "image/png": "[encoded data removed]"
          },
          "metadata": {
            "needs_background": "light"
          }
        }
      ]
    },
    {
      "cell_type": "code",
      "source": [
        "# predict our car price\n",
        "predicted = model(car_price_tensor).data.numpy()\n",
        "plt.scatter(car_prices_array,number_of_car_sell_array,label=\"original data\",color=\"red\")\n",
        "plt.scatter(car_prices_array,predicted,label='predicted data',color='blue')\n",
        "\n",
        "plt.legend()\n",
        "plt.xlabel(\"Car Price $\")\n",
        "plt.ylabel('Number of Car Sell')\n",
        "plt.title('Original vs Predicted values')\n",
        "plt.show()"
      ],
      "metadata": {
        "colab": {
          "base_uri": "https://localhost:8080/",
          "height": 295
        },
        "id": "mFAPvlV_52P5",
        "outputId": "81f3504b-f23f-4299-b8f5-c7e2cef8e272"
      },
      "execution_count": 17,
      "outputs": [
        {
          "output_type": "display_data",
          "data": {
            "text/plain": [
              "<Figure size 432x288 with 1 Axes>"
            ],
            "image/png": "[encoded data removed]"
          },
          "metadata": {
            "needs_background": "light"
          }
        }
      ]
    }
  ]
}